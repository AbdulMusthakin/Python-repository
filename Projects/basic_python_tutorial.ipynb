{
 "cells": [
  {
   "attachments": {},
   "cell_type": "markdown",
   "metadata": {},
   "source": [
    "# Python Tutorial\n",
    "\n",
    "Hello! This a notebook that contains everything you really need to learn the basics of Python. There is nothing here that is really advanced as the purpose of this is to be the essentials of Python. I hope that anyone reading this notebook will be able to learn the basics of Python which they can then apply to learn further or use the information in their own projects. "
   ]
  },
  {
   "attachments": {},
   "cell_type": "markdown",
   "metadata": {},
   "source": [
    "## 1. Data Types\n",
    "\n",
    "Python has several in-depth data types that are used to do different things as well as represent different kind of values. This tutorial will only cover the the basic data types that you have to know to get started with Python. These are numbers (ints, floats), strings and booleans. There are a few other data types that will be covered in this tutorial along with the other topics.\n",
    "\n",
    "### 1.1 Numbers\n",
    "\n",
    "There are two main types of numbers in Python: ints and floats. Ints or integers are whole numbers and floats are numbers with a decimal point. You can do basic calculations with these numbers by themselves or assigning them to variables. Below you can see that we have assigned the number 1 to the variable 'x'. We have also given two examples of floats. You can see that there is a decimal point seperating the number. Floats may represent whole numbers (e.g. 1.0), as long as there is a decimal point. Both floats and ints can be positive or negative.\n",
    "\n",
    "   ```python\n",
    "    x = 1 # int\n",
    "    x = -5 # int\n",
    "    y = 1.0 # float\n",
    "    z = -414.7 # float\n",
    "   ```\n",
    "\n",
    "### 1.2 Strings\n",
    "\n",
    "Strings are a sequence of characters. It can be anything inside two quotation marks. You can use single or double quotes to represent a string, it does not matter. Strings are quite simple are used to output text. You can also use triple quotes to represent a string which is useful if you want it to span multiple lines. Below are some examples of strings. On the first one, the words 'Hello World' are inside single quotes. The first and second example are equiavalent. On the third example, everything between the two triple quotes count as one string.\n",
    "\n",
    "   ```python\n",
    "    x = 'Hello World' # string\n",
    "    y = \"Hello World\" # string\n",
    "    z = '''\n",
    "    Hello,\n",
    "    I like\n",
    "    turtles.\n",
    "    ''' # multi-line string\n",
    "   ```\n",
    "\n",
    "### 1.3 Booleans\n",
    "\n",
    "Booleans are a data type that can only be True or False. They represent logical values and can be used in conditional statements i.e. to check if something is true or false. You can also think of True as being 1 and False as being 0. Below are two examples of booleans. Make sure that you capitalise the first letter of True and False.\n",
    "\n",
    "   ```python\n",
    "    x = True # boolean\n",
    "    y = False # boolean\n",
    "   ```"
   ]
  }
 ],
 "metadata": {
  "kernelspec": {
   "display_name": "Python 3",
   "language": "python",
   "name": "python3"
  },
  "language_info": {
   "codemirror_mode": {
    "name": "ipython",
    "version": 3
   },
   "file_extension": ".py",
   "mimetype": "text/x-python",
   "name": "python",
   "nbconvert_exporter": "python",
   "pygments_lexer": "ipython3",
   "version": "3.11.2"
  },
  "orig_nbformat": 4,
  "vscode": {
   "interpreter": {
    "hash": "544c7e72ceabb8b5baf00146d00b7c3a5bfd60d2cf41bb549c5c035fb33480da"
   }
  }
 },
 "nbformat": 4,
 "nbformat_minor": 2
}
